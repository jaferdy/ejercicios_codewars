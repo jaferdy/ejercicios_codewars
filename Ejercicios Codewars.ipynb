{
 "cells": [
  {
   "cell_type": "markdown",
   "metadata": {},
   "source": [
    "**8K Square(n) Sum**\n",
    "\n",
    "Complete the square sum function so that it squares each number passed into it and then sums the results together.\n",
    "\n",
    "For example, for [1, 2, 2] it should return 9 because \n",
    "1<sup>2</sup> + 2<sup>2</sup> + 2<sup>2</sup> = 9"
   ]
  },
  {
   "cell_type": "code",
   "execution_count": 1,
   "metadata": {},
   "outputs": [],
   "source": [
    "def square_sum(numbers):\n",
    "    while True:\n",
    "        try:\n",
    "            a = []\n",
    "            if isinstance(numbers,list):\n",
    "                for i in numbers:\n",
    "                    if isinstance(i,int):\n",
    "                        a.append(i**2)\n",
    "            return sum(a)\n",
    "        except ValueError:\n",
    "            pass"
   ]
  },
  {
   "cell_type": "code",
   "execution_count": 3,
   "metadata": {},
   "outputs": [
    {
     "data": {
      "text/plain": [
       "5"
      ]
     },
     "execution_count": 3,
     "metadata": {},
     "output_type": "execute_result"
    }
   ],
   "source": [
    "square_sum([2,\"hola\",1])"
   ]
  },
  {
   "cell_type": "markdown",
   "metadata": {},
   "source": [
    "<span style=\"color: yellow;\">Ejercicio pasado sin errores en Codewars</span>"
   ]
  },
  {
   "cell_type": "markdown",
   "metadata": {},
   "source": [
    "**8K Counting sheep...**\n",
    "\n",
    "Consider an array/list of sheep where some sheep may be missing from their place. We need a function that counts the number of sheep present in the array (true means present).\n",
    "\n",
    "For example, \n",
    "[True,  True,  True,  False,\n",
    "  True,  True,  True,  True ,\n",
    "  True,  False, True,  False,\n",
    "  True,  False, False, True ,\n",
    "  True,  True,  True,  True ,\n",
    "  False, False, True,  True]\n",
    "\n",
    "The correct answer would be 17.\n",
    "\n",
    "Hint: Don't forget to check for bad values like null/undefined"
   ]
  },
  {
   "cell_type": "code",
   "execution_count": 4,
   "metadata": {},
   "outputs": [],
   "source": [
    "def count_sheeps(sheep):\n",
    "  while True:\n",
    "    try:\n",
    "      if isinstance(sheep,list):\n",
    "        for i in sheep:\n",
    "          if isinstance(i,bool):\n",
    "            pass\n",
    "      return sheep.count(True)\n",
    "    except ValueError:\n",
    "            pass"
   ]
  },
  {
   "cell_type": "code",
   "execution_count": 5,
   "metadata": {},
   "outputs": [
    {
     "data": {
      "text/plain": [
       "3"
      ]
     },
     "execution_count": 5,
     "metadata": {},
     "output_type": "execute_result"
    }
   ],
   "source": [
    "count_sheeps([True,True, False, \"Hola\",True])"
   ]
  },
  {
   "cell_type": "markdown",
   "metadata": {},
   "source": [
    "<span style=\"color: yellow;\">Ejercicio pasado sin errores en Codewars</span>"
   ]
  },
  {
   "cell_type": "markdown",
   "metadata": {},
   "source": [
    "**8K Keep Hydrated!**\n",
    "\n",
    "Nathan loves cycling.\n",
    "\n",
    "Because Nathan knows it is important to stay hydrated, he drinks 0.5 litres of water per hour of cycling.\n",
    "\n",
    "You get given the time in hours and you need to return the number of litres Nathan will drink, rounded to the smallest value.\n",
    "\n",
    "For example:\n",
    "\n",
    "time = 3 ----> litres = 1\n",
    "\n",
    "time = 6.7---> litres = 3\n",
    "\n",
    "time = 11.8--> litres = 5"
   ]
  },
  {
   "cell_type": "code",
   "execution_count": 40,
   "metadata": {},
   "outputs": [],
   "source": [
    "def litres(time):\n",
    "    litros = int(0.5 * time)  \n",
    "    return litros\n",
    "# Al aplicar int, quita la parte decimal, redondeando siempre hacia abajo, es decir, si tengo 13.9, únicamente se queda con 13."
   ]
  },
  {
   "cell_type": "markdown",
   "metadata": {},
   "source": [
    "<span style=\"color: yellow;\">Ejercicio pasado sin errores en Codewars</span>"
   ]
  },
  {
   "cell_type": "markdown",
   "metadata": {},
   "source": [
    "**8K Even or Odd**\n",
    "\n",
    "Create a function that takes an integer as an argument and returns \"Even\" for even numbers or \"Odd\" for odd numbers."
   ]
  },
  {
   "cell_type": "code",
   "execution_count": 1,
   "metadata": {},
   "outputs": [],
   "source": [
    "def even_or_odd(number):\n",
    "    while True:\n",
    "        try:\n",
    "            if isinstance(number,int):\n",
    "                if number % 2 == 0:\n",
    "                    return \"Even\"\n",
    "                else:\n",
    "                    return \"Odd\"\n",
    "        except ValueError:\n",
    "            pass"
   ]
  },
  {
   "cell_type": "code",
   "execution_count": 2,
   "metadata": {},
   "outputs": [
    {
     "data": {
      "text/plain": [
       "'Odd'"
      ]
     },
     "execution_count": 2,
     "metadata": {},
     "output_type": "execute_result"
    }
   ],
   "source": [
    "even_or_odd(5)"
   ]
  },
  {
   "cell_type": "markdown",
   "metadata": {},
   "source": [
    "<span style=\"color: yellow;\">Ejercicio pasado sin errores en Codewars</span>"
   ]
  },
  {
   "cell_type": "markdown",
   "metadata": {},
   "source": [
    "**8K Grasshopper - Summation**\n",
    "\n",
    "Summation\n",
    "Write a program that finds the summation of every number from 1 to num. The number will always be a positive integer greater than 0.\n",
    "\n",
    "For example (Input -> Output):\n",
    "\n",
    "2 -> 3 (1 + 2)\n",
    "8 -> 36 (1 + 2 + 3 + 4 + 5 + 6 + 7 + 8)"
   ]
  },
  {
   "cell_type": "code",
   "execution_count": 3,
   "metadata": {},
   "outputs": [],
   "source": [
    "def summation(num):\n",
    "    lista = list(range(num+1))\n",
    "    return sum(lista)"
   ]
  },
  {
   "cell_type": "code",
   "execution_count": 4,
   "metadata": {},
   "outputs": [
    {
     "data": {
      "text/plain": [
       "3"
      ]
     },
     "execution_count": 4,
     "metadata": {},
     "output_type": "execute_result"
    }
   ],
   "source": [
    "summation(2)"
   ]
  },
  {
   "cell_type": "code",
   "execution_count": 5,
   "metadata": {},
   "outputs": [
    {
     "data": {
      "text/plain": [
       "36"
      ]
     },
     "execution_count": 5,
     "metadata": {},
     "output_type": "execute_result"
    }
   ],
   "source": [
    "summation(8)"
   ]
  },
  {
   "cell_type": "markdown",
   "metadata": {},
   "source": [
    "<span style=\"color: yellow;\">Ejercicio pasado sin errores en Codewars</span>"
   ]
  },
  {
   "cell_type": "markdown",
   "metadata": {},
   "source": [
    "**8K Is n divisible by x and y?**\n",
    "\n",
    "Create a function that checks if a number n is divisible by two numbers x AND y. All inputs are positive, non-zero numbers.\n",
    "\n",
    "Examples:\n",
    "1) n =   3, x = 1, y = 3 =>  true because   3 is divisible by 1 and 3\n",
    "2) n =  12, x = 2, y = 6 =>  true because  12 is divisible by 2 and 6\n",
    "3) n = 100, x = 5, y = 3 => false because 100 is not divisible by 3\n",
    "4) n =  12, x = 7, y = 5 => false because  12 is neither divisible by 7"
   ]
  },
  {
   "cell_type": "code",
   "execution_count": 6,
   "metadata": {},
   "outputs": [],
   "source": [
    "def is_divisible(n,x,y):\n",
    "    if n % x == 0 and n % y == 0:\n",
    "        return True\n",
    "    else:\n",
    "        return False"
   ]
  },
  {
   "cell_type": "code",
   "execution_count": 7,
   "metadata": {},
   "outputs": [
    {
     "data": {
      "text/plain": [
       "True"
      ]
     },
     "execution_count": 7,
     "metadata": {},
     "output_type": "execute_result"
    }
   ],
   "source": [
    "is_divisible(3,1,3)"
   ]
  },
  {
   "cell_type": "code",
   "execution_count": 9,
   "metadata": {},
   "outputs": [
    {
     "data": {
      "text/plain": [
       "False"
      ]
     },
     "execution_count": 9,
     "metadata": {},
     "output_type": "execute_result"
    }
   ],
   "source": [
    "is_divisible(100,5,3)"
   ]
  },
  {
   "cell_type": "markdown",
   "metadata": {},
   "source": [
    "<span style=\"color: yellow;\">Ejercicio pasado sin errores en Codewars</span>"
   ]
  },
  {
   "cell_type": "markdown",
   "metadata": {},
   "source": [
    "**8K Returning Strings**\n",
    "\n",
    "Make a function that will return a greeting statement that uses an input; your program should return, \"Hello, <name> how are you doing today?\".\n",
    "\n",
    "[Make sure you type the exact thing I wrote or the program may not execute properly]"
   ]
  },
  {
   "cell_type": "code",
   "execution_count": 10,
   "metadata": {},
   "outputs": [],
   "source": [
    "def greet(name):\n",
    "    return f\"Hello, {name} how are you doing today?\""
   ]
  },
  {
   "cell_type": "code",
   "execution_count": 14,
   "metadata": {},
   "outputs": [
    {
     "data": {
      "text/plain": [
       "'Hello, javier how are you doing today?'"
      ]
     },
     "execution_count": 14,
     "metadata": {},
     "output_type": "execute_result"
    }
   ],
   "source": [
    "greet(\"javier\")"
   ]
  },
  {
   "cell_type": "markdown",
   "metadata": {},
   "source": [
    "<span style=\"color: yellow;\">Ejercicio pasado sin errores en Codewars</span>"
   ]
  },
  {
   "cell_type": "markdown",
   "metadata": {},
   "source": [
    "**8K Abbreviate a Two Word Name**\n",
    "\n",
    "Write a function to convert a name into initials. This kata strictly takes two words with one space in between them.\n",
    "\n",
    "The output should be two capital letters with a dot separating them.\n",
    "\n",
    "It should look like this:\n",
    "\n",
    "Sam Harris => S.H\n",
    "\n",
    "patrick feeney => P.F"
   ]
  },
  {
   "cell_type": "code",
   "execution_count": 1,
   "metadata": {},
   "outputs": [],
   "source": [
    "def abbrev_name(name):\n",
    "    name = name.upper()\n",
    "    lista = name.split(\" \")\n",
    "    return f\"{lista[0][0]}.{lista[1][0]}\""
   ]
  },
  {
   "cell_type": "code",
   "execution_count": 2,
   "metadata": {},
   "outputs": [
    {
     "data": {
      "text/plain": [
       "'J.F'"
      ]
     },
     "execution_count": 2,
     "metadata": {},
     "output_type": "execute_result"
    }
   ],
   "source": [
    "abbrev_name(\"javier fernandez\")"
   ]
  },
  {
   "cell_type": "markdown",
   "metadata": {},
   "source": [
    "<span style=\"color: yellow;\">Ejercicio pasado sin errores en Codewars</span>"
   ]
  },
  {
   "cell_type": "markdown",
   "metadata": {},
   "source": [
    "**8K Convert number to reversed array of digits**\n",
    "\n",
    "Given a random non-negative number, you have to return the digits of this number within an array in reverse order.\n",
    "\n",
    "Example(Input => Output):\n",
    "35231 => [1,3,2,5,3]\n",
    "0 => [0]"
   ]
  },
  {
   "cell_type": "code",
   "execution_count": 7,
   "metadata": {},
   "outputs": [],
   "source": [
    "def digitize(n):\n",
    "    n = str(n)\n",
    "    lista = []\n",
    "    for i in n:\n",
    "        lista.append(int(i))\n",
    "    lista.reverse()\n",
    "    return lista"
   ]
  },
  {
   "cell_type": "code",
   "execution_count": 8,
   "metadata": {},
   "outputs": [
    {
     "data": {
      "text/plain": [
       "[1, 2]"
      ]
     },
     "execution_count": 8,
     "metadata": {},
     "output_type": "execute_result"
    }
   ],
   "source": [
    "digitize(21)"
   ]
  },
  {
   "cell_type": "code",
   "execution_count": 9,
   "metadata": {},
   "outputs": [],
   "source": [
    "def digitize2(n):\n",
    "    lista = []\n",
    "    for i in str(n):\n",
    "        lista.append(int(i))\n",
    "    lista.reverse()\n",
    "    return lista"
   ]
  },
  {
   "cell_type": "code",
   "execution_count": 10,
   "metadata": {},
   "outputs": [
    {
     "data": {
      "text/plain": [
       "[1, 2]"
      ]
     },
     "execution_count": 10,
     "metadata": {},
     "output_type": "execute_result"
    }
   ],
   "source": [
    "digitize2(21)"
   ]
  },
  {
   "cell_type": "markdown",
   "metadata": {},
   "source": [
    "<span style=\"color: yellow;\">Ejercicio pasado sin errores en Codewars. (He pasado la primera opción, no la segunda)</span>"
   ]
  },
  {
   "cell_type": "markdown",
   "metadata": {},
   "source": [
    "**8K A Needle in the Haystack**\n",
    "\n",
    "Can you find the needle in the haystack?\n",
    "\n",
    "Write a function findNeedle() that takes an array full of junk but containing one \"needle\"\n",
    "\n",
    "After your function finds the needle it should return a message (as a string) that says:\n",
    "\n",
    "\"found the needle at position \" plus the index it found the needle, so:\n",
    "\n",
    "Example(Input --> Output)\n",
    "\n",
    "[\"hay\", \"junk\", \"hay\", \"hay\", \"moreJunk\", \"needle\", \"randomJunk\"] --> \"found the needle at position 5\""
   ]
  },
  {
   "cell_type": "code",
   "execution_count": 11,
   "metadata": {},
   "outputs": [],
   "source": [
    "def find_needle(haystack):\n",
    "    position = haystack.index(\"needle\")\n",
    "    return f\"found the needle at position {position}\""
   ]
  },
  {
   "cell_type": "code",
   "execution_count": 12,
   "metadata": {},
   "outputs": [
    {
     "data": {
      "text/plain": [
       "'found the needle at position 5'"
      ]
     },
     "execution_count": 12,
     "metadata": {},
     "output_type": "execute_result"
    }
   ],
   "source": [
    "find_needle([\"hay\", \"junk\", \"hay\", \"hay\", \"moreJunk\", \"needle\", \"randomJunk\"])"
   ]
  },
  {
   "cell_type": "markdown",
   "metadata": {},
   "source": [
    "<span style=\"color: yellow;\">Ejercicio pasado sin errores en Codewars</span>"
   ]
  },
  {
   "cell_type": "markdown",
   "metadata": {},
   "source": [
    "**8KOpposites Attract**\n",
    "\n",
    "Timmy & Sarah think they are in love, but around where they live, they will only know once they pick a flower each. If one of the flowers has an even number of petals and the other has an odd number of petals it means they are in love.\n",
    "\n",
    "Write a function that will take the number of petals of each flower and return true if they are in love and false if they aren't."
   ]
  },
  {
   "cell_type": "code",
   "execution_count": 13,
   "metadata": {},
   "outputs": [],
   "source": [
    "def lovefunc( flower1, flower2 ):\n",
    "    if flower1 % 2 == 0:\n",
    "        petalos_flower1 = \"par\"\n",
    "    else:\n",
    "        petalos_flower1 = \"impar\"\n",
    "    \n",
    "    if flower2 % 2 == 0:\n",
    "        petalos_flower2 = \"par\"\n",
    "    else:\n",
    "        petalos_flower2 = \"impar\"\n",
    "    \n",
    "    if petalos_flower1 == petalos_flower2:\n",
    "        return False\n",
    "    else:\n",
    "        return True"
   ]
  },
  {
   "cell_type": "code",
   "execution_count": 14,
   "metadata": {},
   "outputs": [
    {
     "data": {
      "text/plain": [
       "False"
      ]
     },
     "execution_count": 14,
     "metadata": {},
     "output_type": "execute_result"
    }
   ],
   "source": [
    "lovefunc(5,5)"
   ]
  },
  {
   "cell_type": "code",
   "execution_count": 15,
   "metadata": {},
   "outputs": [
    {
     "data": {
      "text/plain": [
       "True"
      ]
     },
     "execution_count": 15,
     "metadata": {},
     "output_type": "execute_result"
    }
   ],
   "source": [
    "lovefunc(10,1)"
   ]
  },
  {
   "cell_type": "markdown",
   "metadata": {},
   "source": [
    "<span style=\"color: yellow;\">Ejercicio pasado sin errores en Codewars. (Había soluciones más fáciles). Ejemplo abajo</span>"
   ]
  },
  {
   "cell_type": "code",
   "execution_count": null,
   "metadata": {},
   "outputs": [],
   "source": [
    "def lovefunc(flower1, flower2):\n",
    "    return flower1 % 2 != flower2 % 2"
   ]
  },
  {
   "cell_type": "markdown",
   "metadata": {},
   "source": [
    "**7k Disemvowel Trolls**\n",
    "\n",
    "Trolls are attacking your comment section!\n",
    "\n",
    "A common way to deal with this situation is to remove all of the vowels from the trolls' comments, neutralizing the threat.\n",
    "\n",
    "Your task is to write a function that takes a string and return a new string with all vowels removed.\n",
    "\n",
    "For example, the string \"This website is for losers LOL!\" would become \"Ths wbst s fr lsrs LL!\".\n",
    "\n",
    "Note: for this kata y isn't considered a vowel."
   ]
  },
  {
   "cell_type": "code",
   "execution_count": 24,
   "metadata": {},
   "outputs": [],
   "source": [
    "hola= \"hola\""
   ]
  },
  {
   "cell_type": "code",
   "execution_count": 25,
   "metadata": {},
   "outputs": [
    {
     "data": {
      "text/plain": [
       "'hla'"
      ]
     },
     "execution_count": 25,
     "metadata": {},
     "output_type": "execute_result"
    }
   ],
   "source": [
    "hola.replace(\"o\",\"\")"
   ]
  },
  {
   "cell_type": "code",
   "execution_count": 26,
   "metadata": {},
   "outputs": [
    {
     "name": "stdout",
     "output_type": "stream",
     "text": [
      "hola\n"
     ]
    }
   ],
   "source": [
    "print(hola)"
   ]
  },
  {
   "cell_type": "code",
   "execution_count": 27,
   "metadata": {},
   "outputs": [
    {
     "name": "stdout",
     "output_type": "stream",
     "text": [
      "hla\n"
     ]
    }
   ],
   "source": [
    "hola = hola.replace(\"o\",\"\")\n",
    "print(hola)"
   ]
  },
  {
   "cell_type": "code",
   "execution_count": 28,
   "metadata": {},
   "outputs": [],
   "source": [
    "def disemvowel(string_):\n",
    "    vocales = [\"a\",\"e\",\"i\",\"o\",\"u\"]\n",
    "    for i in string_:\n",
    "        if i.lower() in vocales:\n",
    "            string_= string_.replace(i,\"\")\n",
    "    return string_"
   ]
  },
  {
   "cell_type": "code",
   "execution_count": 29,
   "metadata": {},
   "outputs": [
    {
     "data": {
      "text/plain": [
       "'hl'"
      ]
     },
     "execution_count": 29,
     "metadata": {},
     "output_type": "execute_result"
    }
   ],
   "source": [
    "disemvowel(\"hola\")"
   ]
  },
  {
   "cell_type": "markdown",
   "metadata": {},
   "source": [
    "<span style=\"color: yellow;\">Ejercicio pasado sin errores en Codewars. Otra solución encontrada en codewars abajo</span>"
   ]
  },
  {
   "cell_type": "code",
   "execution_count": 30,
   "metadata": {},
   "outputs": [],
   "source": [
    "def disemvowel(s):\n",
    "    for i in \"aeiouAEIOU\":\n",
    "        s = s.replace(i,'')\n",
    "    return s"
   ]
  },
  {
   "cell_type": "markdown",
   "metadata": {},
   "source": [
    "**7K Square Every Digit**\n",
    "\n",
    "Welcome. In this kata, you are asked to square every digit of a number and concatenate them.\n",
    "\n",
    "For example, if we run 9119 through the function, 811181 will come out, because 92 is 81 and 12 is 1. (81-1-1-81)\n",
    "\n",
    "Example #2: An input of 765 will/should return 493625 because 72 is 49, 62 is 36, and 52 is 25. (49-36-25)\n",
    "\n",
    "Note: The function accepts an integer and returns an integer."
   ]
  },
  {
   "cell_type": "code",
   "execution_count": 95,
   "metadata": {},
   "outputs": [],
   "source": [
    "def square_digits(num):\n",
    "    lista = []\n",
    "    if num == 0:\n",
    "        return 0\n",
    "    elif num != 0:\n",
    "        for i in str(num):\n",
    "            i = int(i)\n",
    "            lista.append(str(i**2))\n",
    "        a= \"\".join(lista)\n",
    "        return int(a)"
   ]
  },
  {
   "cell_type": "code",
   "execution_count": 96,
   "metadata": {},
   "outputs": [
    {
     "data": {
      "text/plain": [
       "811181"
      ]
     },
     "execution_count": 96,
     "metadata": {},
     "output_type": "execute_result"
    }
   ],
   "source": [
    "square_digits(9119)"
   ]
  },
  {
   "cell_type": "markdown",
   "metadata": {},
   "source": [
    "<span style=\"color: yellow;\">Ejercicio pasado sin errores en Codewars. He tenido que buscar la parte del Join en chatgpt, ya que al principio añadía a la lista los elementos como ints y no como str, por lo que el join no funcionaba correctamente. Otra solución encontrada en codewars abajo explicada</span>"
   ]
  },
  {
   "cell_type": "code",
   "execution_count": 100,
   "metadata": {},
   "outputs": [],
   "source": [
    "def square_digits(num):\n",
    "    squares = ''\n",
    "    for x in str(num):\n",
    "        squares += str(int(x) ** 2)\n",
    "    return int(squares)\n",
    "\n",
    "\n",
    "# squares += str(int(x) ** 2)\n",
    "# Para cada dígito, se convierte a entero (int(x)), se eleva al cuadrado (** 2), se convierte el resultado a cadena (str(...)), y luego \n",
    "# se concatena a la cadena squares utilizando el operador +=. Esto se realiza en cada iteración del bucle, acumulando los cuadrados de los dígitos \n",
    "# en la cadena squares."
   ]
  },
  {
   "cell_type": "code",
   "execution_count": 101,
   "metadata": {},
   "outputs": [
    {
     "data": {
      "text/plain": [
       "811181"
      ]
     },
     "execution_count": 101,
     "metadata": {},
     "output_type": "execute_result"
    }
   ],
   "source": [
    "square_digits(9119)"
   ]
  },
  {
   "cell_type": "markdown",
   "metadata": {},
   "source": [
    "**7K Highest and Lowest**\n",
    "\n",
    "In this little assignment you are given a string of space separated numbers, and have to return the highest and lowest number.\n",
    "\n",
    "Examples\n",
    "high_and_low(\"1 2 3 4 5\")  # return \"5 1\"\n",
    "high_and_low(\"1 2 -3 4 5\") # return \"5 -3\"\n",
    "high_and_low(\"1 9 3 4 -5\") # return \"9 -5\"\n",
    "\n",
    "Notes\n",
    "All numbers are valid Int32, no need to validate them.\n",
    "There will always be at least one number in the input string.\n",
    "Output string must be two numbers separated by a single space, and highest number is first."
   ]
  },
  {
   "cell_type": "code",
   "execution_count": 15,
   "metadata": {},
   "outputs": [],
   "source": [
    "def high_and_low(numbers):\n",
    "    numeros = numbers.split(\" \")\n",
    "    for i,j in enumerate(numeros):\n",
    "        numeros[i] = int(j)\n",
    "    return str(max(numeros)) + \" \" + str(min(numeros))\n"
   ]
  },
  {
   "cell_type": "code",
   "execution_count": 16,
   "metadata": {},
   "outputs": [
    {
     "data": {
      "text/plain": [
       "'5 1'"
      ]
     },
     "execution_count": 16,
     "metadata": {},
     "output_type": "execute_result"
    }
   ],
   "source": [
    "high_and_low(\"1 2 3 4 5\")"
   ]
  },
  {
   "cell_type": "markdown",
   "metadata": {},
   "source": [
    "<span style=\"color: yellow;\">Ejercicio pasado sin errores en Codewars</span>"
   ]
  },
  {
   "cell_type": "markdown",
   "metadata": {},
   "source": [
    "**7K Mumbling**\n",
    "\n",
    "This time no story, no theory. The examples below show you how to write function accum:\n",
    "\n",
    "Examples:\n",
    "accum(\"abcd\") -> \"A-Bb-Ccc-Dddd\"\n",
    "accum(\"RqaEzty\") -> \"R-Qq-Aaa-Eeee-Zzzzz-Tttttt-Yyyyyyy\"\n",
    "accum(\"cwAt\") -> \"C-Ww-Aaa-Tttt\"\n",
    "The parameter of accum is a string which includes only letters from a..z and A..Z."
   ]
  },
  {
   "cell_type": "code",
   "execution_count": 2,
   "metadata": {},
   "outputs": [
    {
     "name": "stdout",
     "output_type": "stream",
     "text": [
      "qqqq\n"
     ]
    }
   ],
   "source": [
    "a = \"q\"\n",
    "a = a*4\n",
    "print(a)"
   ]
  },
  {
   "cell_type": "code",
   "execution_count": 17,
   "metadata": {},
   "outputs": [],
   "source": [
    "def accum(s):\n",
    "    lista = []\n",
    "    for i,j in enumerate(s,start=1):\n",
    "        if isinstance(j,str):\n",
    "            lista.append((i*j).title())\n",
    "    lista = \"-\".join(lista)\n",
    "    return lista"
   ]
  },
  {
   "cell_type": "code",
   "execution_count": 18,
   "metadata": {},
   "outputs": [
    {
     "data": {
      "text/plain": [
       "'A-Bb-Ccc-Dddd'"
      ]
     },
     "execution_count": 18,
     "metadata": {},
     "output_type": "execute_result"
    }
   ],
   "source": [
    "accum(\"abcd\")"
   ]
  },
  {
   "cell_type": "markdown",
   "metadata": {},
   "source": [
    "<span style=\"color: yellow;\">Ejercicio pasado sin errores en Codewars</span>"
   ]
  },
  {
   "cell_type": "markdown",
   "metadata": {},
   "source": [
    "**7K List Filtering**\n",
    "\n",
    "In this kata you will create a function that takes a list of non-negative integers and strings and returns a new list with the strings filtered out.\n",
    "\n",
    "Example\n",
    "\n",
    "filter_list([1,2,'a','b']) == [1,2]\n",
    "\n",
    "filter_list([1,'a','b',0,15]) == [1,0,15]\n",
    "\n",
    "filter_list([1,2,'aasf','1','123',123]) == [1,2,123]"
   ]
  },
  {
   "cell_type": "code",
   "execution_count": 1,
   "metadata": {},
   "outputs": [],
   "source": [
    "def filter_list(l):\n",
    "    lista = []\n",
    "    for i in l:\n",
    "        if isinstance(i,int):\n",
    "            lista.append(i)\n",
    "    return lista"
   ]
  },
  {
   "cell_type": "code",
   "execution_count": 2,
   "metadata": {},
   "outputs": [
    {
     "data": {
      "text/plain": [
       "[1, 0, 15]"
      ]
     },
     "execution_count": 2,
     "metadata": {},
     "output_type": "execute_result"
    }
   ],
   "source": [
    "filter_list([1,'a','b',0,15])"
   ]
  },
  {
   "cell_type": "markdown",
   "metadata": {},
   "source": [
    "<span style=\"color: yellow;\">Ejercicio pasado sin errores en Codewars</span>"
   ]
  },
  {
   "cell_type": "markdown",
   "metadata": {},
   "source": [
    "**7K You're a square!**\n",
    "\n",
    "A square of squares\n",
    "\n",
    "You like building blocks. You especially like building blocks that are squares. And what you even like more, is to arrange them into a square of square building blocks!\n",
    "\n",
    "However, sometimes, you can't arrange them into a square. Instead, you end up with an ordinary rectangle! Those blasted things! If you just had a way to know, whether you're currently working in vain… Wait! That's it! You just have to check if your number of building blocks is a perfect square.\n",
    "\n",
    "Task\n",
    "\n",
    "Given an integral number, determine if it's a square number:\n",
    "\n",
    "In mathematics, a square number or perfect square is an integer that is the square of an integer; in other words, it is the product of some integer with itself.\n",
    "\n",
    "The tests will always use some integral number, so don't worry about that in dynamic typed languages.\n",
    "\n",
    "Examples\n",
    "-1  =>  false\n",
    "\n",
    " 0  =>  true\n",
    "\n",
    " 3  =>  false\n",
    "\n",
    " 4  =>  true\n",
    "\n",
    "25  =>  true\n",
    "\n",
    "26  =>  false"
   ]
  },
  {
   "cell_type": "code",
   "execution_count": 7,
   "metadata": {},
   "outputs": [
    {
     "data": {
      "text/plain": [
       "5.0"
      ]
     },
     "execution_count": 7,
     "metadata": {},
     "output_type": "execute_result"
    }
   ],
   "source": [
    "np.sqrt(25)"
   ]
  },
  {
   "cell_type": "code",
   "execution_count": 5,
   "metadata": {},
   "outputs": [
    {
     "data": {
      "text/plain": [
       "5.0"
      ]
     },
     "execution_count": 5,
     "metadata": {},
     "output_type": "execute_result"
    }
   ],
   "source": [
    "import math\n",
    "math.sqrt(25)"
   ]
  },
  {
   "cell_type": "code",
   "execution_count": 6,
   "metadata": {},
   "outputs": [],
   "source": [
    "import numpy as np\n",
    "def is_square(n):\n",
    "    if n >= 0:\n",
    "        a= str(np.sqrt(n))\n",
    "        if a.endswith(\".0\"):\n",
    "            return True\n",
    "        else:\n",
    "            return False\n",
    "    else:\n",
    "        return False"
   ]
  },
  {
   "cell_type": "code",
   "execution_count": 9,
   "metadata": {},
   "outputs": [
    {
     "data": {
      "text/plain": [
       "True"
      ]
     },
     "execution_count": 9,
     "metadata": {},
     "output_type": "execute_result"
    }
   ],
   "source": [
    "is_square(25)"
   ]
  },
  {
   "cell_type": "markdown",
   "metadata": {},
   "source": [
    "<span style=\"color: yellow;\">Ejercicio pasado sin errores en Codewars. Abajo otra solución encontrada en Codewars en la que se busca aquellos restos iguales a 0 al dividir por uno, es decir, busca únicamente números enteros. También copio otra de codewars en la que se aplica el método *.is_integer()*</span>"
   ]
  },
  {
   "cell_type": "code",
   "execution_count": null,
   "metadata": {},
   "outputs": [],
   "source": [
    "def is_square(n):    \n",
    "    return n >= 0 and (n**0.5) % 1 == 0"
   ]
  },
  {
   "cell_type": "code",
   "execution_count": null,
   "metadata": {},
   "outputs": [],
   "source": [
    "def is_square(n):    \n",
    "\n",
    "    if n < 0:\n",
    "        return False\n",
    "\n",
    "    sqrt = math.sqrt(n)\n",
    "    \n",
    "    return sqrt.is_integer()"
   ]
  },
  {
   "cell_type": "markdown",
   "metadata": {},
   "source": [
    "**7K Isograms**\n",
    "\n",
    "An isogram is a word that has no repeating letters, consecutive or non-consecutive. Implement a function that determines whether a string that contains only letters is an isogram. Assume the empty string is an isogram. Ignore letter case.\n",
    "\n",
    "Example: (Input --> Output)\n",
    "\n",
    "\"Dermatoglyphics\" --> true \"aba\" --> false \"moOse\" --> false (ignore letter case)\n",
    "\n",
    "isIsogram \"Dermatoglyphics\" = true\n",
    "\n",
    "isIsogram \"moose\" = false\n",
    "\n",
    "isIsogram \"aba\" = false"
   ]
  },
  {
   "cell_type": "code",
   "execution_count": 15,
   "metadata": {},
   "outputs": [
    {
     "name": "stdout",
     "output_type": "stream",
     "text": [
      "h\n",
      "o\n",
      "o\n",
      "l\n",
      "a\n",
      "{'h': 1, 'o': 2, 'l': 1, 'a': 1}\n"
     ]
    }
   ],
   "source": [
    "string = \"hoola\"\n",
    "diccionario = {}\n",
    "for i in string:\n",
    "        diccionario[i] = string.count(i)\n",
    "        print(i)\n",
    "print(diccionario)"
   ]
  },
  {
   "cell_type": "code",
   "execution_count": 19,
   "metadata": {},
   "outputs": [],
   "source": [
    "def is_isogram(string):\n",
    "    diccionario = {}\n",
    "    string = string.lower()\n",
    "    for i in string:\n",
    "        diccionario[i] = string.count(i)\n",
    "    valores = diccionario.values()\n",
    "    if string == \"\":\n",
    "        return True\n",
    "    elif max(valores) > 1:\n",
    "        return False\n",
    "    else:\n",
    "        return True"
   ]
  },
  {
   "cell_type": "code",
   "execution_count": 20,
   "metadata": {},
   "outputs": [
    {
     "data": {
      "text/plain": [
       "True"
      ]
     },
     "execution_count": 20,
     "metadata": {},
     "output_type": "execute_result"
    }
   ],
   "source": [
    "is_isogram(\"\")"
   ]
  },
  {
   "cell_type": "code",
   "execution_count": 21,
   "metadata": {},
   "outputs": [
    {
     "data": {
      "text/plain": [
       "False"
      ]
     },
     "execution_count": 21,
     "metadata": {},
     "output_type": "execute_result"
    }
   ],
   "source": [
    "is_isogram(\"veinticinco\")"
   ]
  },
  {
   "cell_type": "code",
   "execution_count": 22,
   "metadata": {},
   "outputs": [
    {
     "data": {
      "text/plain": [
       "True"
      ]
     },
     "execution_count": 22,
     "metadata": {},
     "output_type": "execute_result"
    }
   ],
   "source": [
    "is_isogram(\"isogram\")"
   ]
  },
  {
   "cell_type": "markdown",
   "metadata": {},
   "source": [
    "<span style=\"color: yellow;\">Ejercicio pasado sin errores en Codewars. (Había soluciones más fáciles). Ejemplo abajo</span>"
   ]
  },
  {
   "cell_type": "code",
   "execution_count": 30,
   "metadata": {},
   "outputs": [],
   "source": [
    "def is_isogram(string):\n",
    "    string = string.lower()\n",
    "    for letter in string:\n",
    "        if string.count(letter) > 1:\n",
    "            return False\n",
    "    return True\n",
    "# Solo después de pasar por todas las letras y confirmar que no hay repeticiones, la función devuelve True. Si encuentra al menos una repetición, \n",
    "# devuelve False."
   ]
  },
  {
   "cell_type": "markdown",
   "metadata": {},
   "source": [
    "**6K Find the odd int**\n",
    "\n",
    "Given an array of integers, find the one that appears an odd number of times.\n",
    "\n",
    "There will always be only one integer that appears an odd number of times.\n",
    "\n",
    "Examples\n",
    "\n",
    "[7] should return 7, because it occurs 1 time (which is odd).\n",
    "\n",
    "[0] should return 0, because it occurs 1 time (which is odd).\n",
    "\n",
    "[1,1,2] should return 2, because it occurs 1 time (which is odd).\n",
    "\n",
    "[0,1,0,1,0] should return 0, because it occurs 3 times (which is odd).\n",
    "\n",
    "[1,2,2,3,3,3,4,3,3,3,2,2,1] should return 4, because it appears 1 time (which is odd)."
   ]
  },
  {
   "cell_type": "code",
   "execution_count": 32,
   "metadata": {},
   "outputs": [],
   "source": [
    "def find_it(seq):\n",
    "    for i in seq:\n",
    "        if seq.count(i) % 2 == 1:\n",
    "            return i"
   ]
  },
  {
   "cell_type": "code",
   "execution_count": 33,
   "metadata": {},
   "outputs": [
    {
     "data": {
      "text/plain": [
       "0"
      ]
     },
     "execution_count": 33,
     "metadata": {},
     "output_type": "execute_result"
    }
   ],
   "source": [
    "find_it([0,1,0,1,0])"
   ]
  },
  {
   "cell_type": "code",
   "execution_count": 35,
   "metadata": {},
   "outputs": [
    {
     "data": {
      "text/plain": [
       "4"
      ]
     },
     "execution_count": 35,
     "metadata": {},
     "output_type": "execute_result"
    }
   ],
   "source": [
    "find_it([1,2,2,3,3,3,4,3,3,3,2,2,1])"
   ]
  },
  {
   "cell_type": "markdown",
   "metadata": {},
   "source": [
    "<span style=\"color: yellow;\">Ejercicio pasado sin errores en Codewars.</span>"
   ]
  },
  {
   "cell_type": "markdown",
   "metadata": {},
   "source": [
    "**6K Sum of Digits / Digital Root**\n",
    "\n",
    "Digital root is the recursive sum of all the digits in a number.\n",
    "\n",
    "Given n, take the sum of the digits of n. If that value has more than one digit, continue reducing in this way until a single-digit number is produced. The input will be a non-negative integer.\n",
    "\n",
    "Examples\n",
    "\n",
    "    16  -->  1 + 6 = 7\n",
    "\n",
    "   942  -->  9 + 4 + 2 = 15  -->  1 + 5 = 6\n",
    "\n",
    "   132189  -->  1 + 3 + 2 + 1 + 8 + 9 = 24  -->  2 + 4 = 6\n",
    "\n",
    "   493193  -->  4 + 9 + 3 + 1 + 9 + 3 = 29  -->  2 + 9 = 11  -->  1 + 1 = 2"
   ]
  },
  {
   "cell_type": "code",
   "execution_count": 13,
   "metadata": {},
   "outputs": [
    {
     "name": "stdout",
     "output_type": "stream",
     "text": [
      "['2', '3', '4']\n",
      "[2, 3, 4]\n"
     ]
    }
   ],
   "source": [
    "n = 234\n",
    "n = list(str(n))\n",
    "print(n)\n",
    "n = list(map(int,n))\n",
    "print(n)"
   ]
  },
  {
   "cell_type": "code",
   "execution_count": 15,
   "metadata": {},
   "outputs": [],
   "source": [
    "def digital_root(n):\n",
    "    while n > 9:\n",
    "        n = list(str(n))\n",
    "        n = list(map(int,n))\n",
    "        n = sum(n)\n",
    "    return n"
   ]
  },
  {
   "cell_type": "code",
   "execution_count": 16,
   "metadata": {},
   "outputs": [
    {
     "data": {
      "text/plain": [
       "6"
      ]
     },
     "execution_count": 16,
     "metadata": {},
     "output_type": "execute_result"
    }
   ],
   "source": [
    "digital_root(942)"
   ]
  },
  {
   "cell_type": "code",
   "execution_count": 17,
   "metadata": {},
   "outputs": [
    {
     "data": {
      "text/plain": [
       "6"
      ]
     },
     "execution_count": 17,
     "metadata": {},
     "output_type": "execute_result"
    }
   ],
   "source": [
    "digital_root(132189)"
   ]
  },
  {
   "cell_type": "markdown",
   "metadata": {},
   "source": [
    "<span style=\"color: yellow;\">Ejercicio pasado sin errores en Codewars. (Había soluciones más fáciles). Ejemplo abajo</span>"
   ]
  },
  {
   "cell_type": "code",
   "execution_count": null,
   "metadata": {},
   "outputs": [],
   "source": [
    "def digital_root(n):\n",
    "    while n>9:\n",
    "        n=sum(map(int,str(n)))\n",
    "    return n\n",
    "# Es similar a mi código pero simplificado en una sola línea de código."
   ]
  },
  {
   "cell_type": "markdown",
   "metadata": {},
   "source": [
    "**6K Array.diff**\n",
    "\n",
    "Your goal in this kata is to implement a difference function, which subtracts one list from another and returns the result.\n",
    "\n",
    "It should remove all values from list a, which are present in list b keeping their order.\n",
    "\n",
    "array_diff([1,2],[1]) == [2]\n",
    "\n",
    "If a value is present in b, all of its occurrences must be removed from the other:\n",
    "\n",
    "array_diff([1,2,2,2,3],[2]) == [1,3]"
   ]
  },
  {
   "cell_type": "code",
   "execution_count": 18,
   "metadata": {},
   "outputs": [],
   "source": [
    "def array_diff(a, b):\n",
    "    lista = []\n",
    "    for i in a:\n",
    "        if i not in b:\n",
    "            lista.append(i)\n",
    "    return lista"
   ]
  },
  {
   "cell_type": "code",
   "execution_count": 19,
   "metadata": {},
   "outputs": [
    {
     "data": {
      "text/plain": [
       "[1, 3]"
      ]
     },
     "execution_count": 19,
     "metadata": {},
     "output_type": "execute_result"
    }
   ],
   "source": [
    "array_diff([1,2,2,2,3],[2])"
   ]
  },
  {
   "cell_type": "markdown",
   "metadata": {},
   "source": [
    "**6K Create Phone Number**\n",
    "\n",
    "Write a function that accepts an array of 10 integers (between 0 and 9), that returns a string of those numbers in the form of a phone number.\n",
    "\n",
    "Example\n",
    "\n",
    "create_phone_number([1, 2, 3, 4, 5, 6, 7, 8, 9, 0]) # => returns \"(123) 456-7890\"\n",
    "\n",
    "The returned format must be correct in order to complete this challenge.\n",
    "\n",
    "Don't forget the space after the closing parentheses!"
   ]
  },
  {
   "cell_type": "code",
   "execution_count": 52,
   "metadata": {},
   "outputs": [
    {
     "data": {
      "text/plain": [
       "'1234567890'"
      ]
     },
     "execution_count": 52,
     "metadata": {},
     "output_type": "execute_result"
    }
   ],
   "source": [
    "n = [1,2,3,4,5,6,7,8,9,0]\n",
    "n = \"\".join(map(str,n))\n",
    "n"
   ]
  },
  {
   "cell_type": "code",
   "execution_count": 53,
   "metadata": {},
   "outputs": [
    {
     "data": {
      "text/plain": [
       "['1', '2', '3', '4', '5', '6', '7', '8', '9', '0']"
      ]
     },
     "execution_count": 53,
     "metadata": {},
     "output_type": "execute_result"
    }
   ],
   "source": [
    "n = list(n)\n",
    "n"
   ]
  },
  {
   "cell_type": "code",
   "execution_count": 55,
   "metadata": {},
   "outputs": [
    {
     "data": {
      "text/plain": [
       "'1234567890'"
      ]
     },
     "execution_count": 55,
     "metadata": {},
     "output_type": "execute_result"
    }
   ],
   "source": [
    "n = \"\".join(n)\n",
    "n"
   ]
  },
  {
   "cell_type": "code",
   "execution_count": 46,
   "metadata": {},
   "outputs": [],
   "source": [
    "def create_phone_number(n):\n",
    "    n= \"\".join(map(str,n))\n",
    "    n = list(n)\n",
    "    n.insert(0,\"(\")\n",
    "    n.insert(4,\")\")\n",
    "    n.insert(5,\" \")\n",
    "    n.insert(9,\"-\")\n",
    "    return \"\".join(n)\n"
   ]
  },
  {
   "cell_type": "code",
   "execution_count": 48,
   "metadata": {},
   "outputs": [
    {
     "data": {
      "text/plain": [
       "'(123) 456-7890'"
      ]
     },
     "execution_count": 48,
     "metadata": {},
     "output_type": "execute_result"
    }
   ],
   "source": [
    "create_phone_number([1234567890])"
   ]
  },
  {
   "cell_type": "markdown",
   "metadata": {},
   "source": [
    "<span style=\"color: yellow;\">Ejercicio pasado sin errores en Codewars. (Había soluciones más fáciles). Ejemplo abajo</span>"
   ]
  },
  {
   "cell_type": "code",
   "execution_count": 56,
   "metadata": {},
   "outputs": [],
   "source": [
    "def create_phone_number(n):\n",
    "\treturn \"({}{}{}) {}{}{}-{}{}{}{}\".format(*n)\n",
    "# format(*n): Utiliza el método format de las cadenas de Python para formatear una cadena. \n",
    "# El asterisco * en *n desempaqueta los elementos de la lista n y los pasa como argumentos posicionales a la cadena de formato."
   ]
  },
  {
   "cell_type": "markdown",
   "metadata": {},
   "source": [
    "**6K Bit Counting**\n",
    "\n",
    "Write a function that takes an integer as input, and returns the number of bits that are equal to one in the binary representation of that number. You can guarantee that input is non-negative.\n",
    "\n",
    "Example: The binary representation of 1234 is 10011010010, so the function should return 5 in this case"
   ]
  },
  {
   "cell_type": "code",
   "execution_count": 6,
   "metadata": {},
   "outputs": [
    {
     "name": "stdout",
     "output_type": "stream",
     "text": [
      "6\n",
      "1\n",
      "[7, 6, 5]\n"
     ]
    }
   ],
   "source": [
    "print(13//2) # Resultado entero de la división\n",
    "print(13 % 2) # resto\n",
    "prueba = [5,6,7]\n",
    "prueba.reverse()\n",
    "print(prueba)"
   ]
  },
  {
   "cell_type": "code",
   "execution_count": 7,
   "metadata": {},
   "outputs": [],
   "source": [
    "def count_bits(n):\n",
    "    lista = []\n",
    "    while n > 0:\n",
    "        lista.append(n % 2)\n",
    "        n = n // 2\n",
    "    return lista.count(1)"
   ]
  },
  {
   "cell_type": "code",
   "execution_count": 8,
   "metadata": {},
   "outputs": [
    {
     "data": {
      "text/plain": [
       "5"
      ]
     },
     "execution_count": 8,
     "metadata": {},
     "output_type": "execute_result"
    }
   ],
   "source": [
    "count_bits(1234)"
   ]
  },
  {
   "cell_type": "markdown",
   "metadata": {},
   "source": [
    "Vamos a intentar representar el número en binario también"
   ]
  },
  {
   "cell_type": "code",
   "execution_count": 19,
   "metadata": {},
   "outputs": [],
   "source": [
    "def binario(n):\n",
    "    lista = []\n",
    "    while n > 0:\n",
    "        lista.append(n % 2)\n",
    "        n = n // 2\n",
    "    lista.reverse()\n",
    "    lista = map(str,lista)\n",
    "    return int(\"\".join(lista))"
   ]
  },
  {
   "cell_type": "code",
   "execution_count": 20,
   "metadata": {},
   "outputs": [
    {
     "data": {
      "text/plain": [
       "10011010010"
      ]
     },
     "execution_count": 20,
     "metadata": {},
     "output_type": "execute_result"
    }
   ],
   "source": [
    "binario(1234)"
   ]
  },
  {
   "cell_type": "markdown",
   "metadata": {},
   "source": [
    "<span style=\"color: yellow;\">Para hacer los anteriores apartados, he buscado información sobre cómo pasar un número a forma binaria:</span>\n",
    "\n",
    "Para convertir un número decimal a binario, puedes seguir estos pasos:\n",
    "\n",
    "Divide el número por 2: Divide el número decimal entre 2 y anota el cociente y el residuo.\n",
    "\n",
    "Continúa dividiendo: Toma el cociente de la primera división y divídelo nuevamente por 2. Anota el nuevo cociente y residuo.\n",
    "\n",
    "Repite el proceso: Continúa dividiendo sucesivamente hasta que el cociente sea 0.\n",
    "\n",
    "Lee los residuos de abajo hacia arriba: La representación binaria se lee de abajo hacia arriba, tomando los residuos en orden. Estos residuos formarán el número binario equivalente.\n",
    "\n",
    "A continuación, un ejemplo:\n",
    "\n",
    "Vamos a convertir el número decimal 13 a binario.\n",
    "\n",
    "13 / 2 = 6 con un residuo de 1\n",
    "\n",
    "6 / 2 = 3 con un residuo de 0\n",
    "\n",
    "3 / 2 = 1 con un residuo de 1\n",
    "\n",
    "1 / 2 = 0 con un residuo de 1\n",
    "\n",
    "Representar un número en binario significa expresar ese número utilizando solo los dígitos 0 y 1 en el sistema binario. El sistema binario es un sistema de numeración en el que cada posición representa una potencia de 2.\n",
    "\n",
    "Para convertir un número decimal a binario, puedes seguir estos pasos:\n",
    "\n",
    "Divide el número por 2: Divide el número decimal entre 2 y anota el cociente y el residuo.\n",
    "\n",
    "Continúa dividiendo: Toma el cociente de la primera división y divídelo nuevamente por 2. Anota el nuevo cociente y residuo.\n",
    "\n",
    "Repite el proceso: Continúa dividiendo sucesivamente hasta que el cociente sea 0.\n",
    "\n",
    "Lee los residuos de abajo hacia arriba: La representación binaria se lee de abajo hacia arriba, tomando los residuos en orden. Estos residuos formarán el número binario equivalente.\n",
    "\n",
    "A continuación, un ejemplo:\n",
    "\n",
    "Vamos a convertir el número decimal 13 a binario.\n",
    "\n",
    "Copy code\n",
    "13 / 2 = 6 con un residuo de 1\n",
    "6 / 2 = 3 con un residuo de 0\n",
    "3 / 2 = 1 con un residuo de 1\n",
    "1 / 2 = 0 con un residuo de 1\n",
    "\n",
    "Ahora, lee los residuos de abajo hacia arriba: 1101. Por lo tanto, 13 en binario es 1101."
   ]
  },
  {
   "cell_type": "markdown",
   "metadata": {},
   "source": [
    "<span style=\"color: yellow;\">Ejercicio pasado sin errores en Codewars (La parte de transformar el número a binario la he realizado por probar, no se pedía en el ejercicio). (Había soluciones más fáciles). Ejemplo abajo</span>"
   ]
  },
  {
   "cell_type": "code",
   "execution_count": 22,
   "metadata": {},
   "outputs": [],
   "source": [
    "def countBits(n):\n",
    "    return bin(n).count(\"1\")\n",
    "\n",
    "# Python tiene un método llamado bin(n) que devuelve el número automáticamente a binario"
   ]
  },
  {
   "cell_type": "code",
   "execution_count": 24,
   "metadata": {},
   "outputs": [
    {
     "name": "stdout",
     "output_type": "stream",
     "text": [
      "0b10011010010\n"
     ]
    }
   ],
   "source": [
    "print(bin(1234))\n",
    "# El 0b que aparece al inicio es la forma que tiene python de decir que el número está representado en formato binario."
   ]
  },
  {
   "cell_type": "markdown",
   "metadata": {},
   "source": [
    "**6K Find The Parity Outlier**\n",
    "\n",
    "You are given an array (which will have a length of at least 3, but could be very large) containing integers. The array is either entirely comprised of odd integers or entirely comprised of even integers except for a single integer N. Write a method that takes the array as an argument and returns this \"outlier\" N.\n",
    "\n",
    "Examples\n",
    "\n",
    "[2, 4, 0, 100, 4, 11, 2602, 36] -->  11 (the only odd number)\n",
    "\n",
    "[160, 3, 1719, 19, 11, 13, -21] --> 160 (the only even number)"
   ]
  },
  {
   "cell_type": "code",
   "execution_count": 25,
   "metadata": {},
   "outputs": [],
   "source": [
    "def find_outlier(integers):\n",
    "    par = []\n",
    "    impar = []\n",
    "    for i in integers:\n",
    "        if i % 2 == 0:\n",
    "            par.append(i)\n",
    "        else:\n",
    "            impar.append(i)\n",
    "    if len(par) == 1:\n",
    "        resultado = par\n",
    "    else:\n",
    "        resultado = impar\n",
    "    return resultado[0]"
   ]
  },
  {
   "cell_type": "code",
   "execution_count": 26,
   "metadata": {},
   "outputs": [
    {
     "data": {
      "text/plain": [
       "11"
      ]
     },
     "execution_count": 26,
     "metadata": {},
     "output_type": "execute_result"
    }
   ],
   "source": [
    "find_outlier([2, 4, 0, 100, 4, 11, 2602, 36])"
   ]
  },
  {
   "cell_type": "markdown",
   "metadata": {},
   "source": [
    "<span style=\"color: yellow;\">Ejercicio pasado sin errores en Codewars.</span>"
   ]
  },
  {
   "cell_type": "markdown",
   "metadata": {},
   "source": [
    "**6K Replace With Alphabet Position**\n",
    "\n",
    "Welcome.\n",
    "\n",
    "In this kata you are required to, given a string, replace every letter with its position in the alphabet.\n",
    "\n",
    "If anything in the text isn't a letter, ignore it and don't return it.\n",
    "\n",
    "\"a\" = 1, \"b\" = 2, etc.\n",
    "\n",
    "Example:\n",
    "\n",
    "alphabet_position(\"The sunset sets at twelve o' clock.\")\n",
    "\n",
    "Should return: \"20 8 5 19 21 14 19 5 20 19 5 20 19 1 20 20 23 5 12 22 5 15 3 12 15 3 11\" ( as a string )"
   ]
  },
  {
   "cell_type": "code",
   "execution_count": 1,
   "metadata": {},
   "outputs": [],
   "source": [
    "import string"
   ]
  },
  {
   "cell_type": "code",
   "execution_count": 8,
   "metadata": {},
   "outputs": [
    {
     "name": "stdout",
     "output_type": "stream",
     "text": [
      "abcdefghijklmnopqrstuvwxyz\n"
     ]
    }
   ],
   "source": [
    "print(string.ascii_lowercase)"
   ]
  },
  {
   "cell_type": "code",
   "execution_count": 13,
   "metadata": {},
   "outputs": [
    {
     "data": {
      "text/plain": [
       "'abcdefghijklmnopqrstuvwxyz'"
      ]
     },
     "execution_count": 13,
     "metadata": {},
     "output_type": "execute_result"
    }
   ],
   "source": [
    "letras = string.ascii_lowercase\n",
    "letras"
   ]
  },
  {
   "cell_type": "code",
   "execution_count": 16,
   "metadata": {},
   "outputs": [
    {
     "name": "stdout",
     "output_type": "stream",
     "text": [
      "{1: 'a', 2: 'b', 3: 'c', 4: 'd', 5: 'e', 6: 'f', 7: 'g', 8: 'h', 9: 'i', 10: 'j', 11: 'k', 12: 'l', 13: 'm', 14: 'n', 15: 'o', 16: 'p', 17: 'q', 18: 'r', 19: 's', 20: 't', 21: 'u', 22: 'v', 23: 'w', 24: 'x', 25: 'y', 26: 'z'}\n"
     ]
    }
   ],
   "source": [
    "letras = {}\n",
    "for i, j in enumerate(string.ascii_lowercase,start=1):\n",
    "    letras[i] = j\n",
    "print(letras)"
   ]
  },
  {
   "cell_type": "code",
   "execution_count": 23,
   "metadata": {},
   "outputs": [],
   "source": [
    "def alphabet_position(text):\n",
    "    text = text.lower()\n",
    "    letras = {}\n",
    "    lista = []\n",
    "    for i, j in enumerate(string.ascii_lowercase, start=1):\n",
    "        letras[j] = i\n",
    "    for i in text:\n",
    "        if i in string.ascii_lowercase:\n",
    "            lista.append(letras.get(i))\n",
    "    lista = map(str,lista)\n",
    "    return \" \".join(lista)"
   ]
  },
  {
   "cell_type": "code",
   "execution_count": 24,
   "metadata": {},
   "outputs": [
    {
     "data": {
      "text/plain": [
       "'0 1 2'"
      ]
     },
     "execution_count": 24,
     "metadata": {},
     "output_type": "execute_result"
    }
   ],
   "source": [
    "alphabet_position(\"abc\")"
   ]
  },
  {
   "cell_type": "code",
   "execution_count": 25,
   "metadata": {},
   "outputs": [
    {
     "data": {
      "text/plain": [
       "'19 7 4 18 20 13 18 4 19 18 4 19 18 0 19 19 22 4 11 21 4 14 2 11 14 2 10'"
      ]
     },
     "execution_count": 25,
     "metadata": {},
     "output_type": "execute_result"
    }
   ],
   "source": [
    "alphabet_position(\"The sunset sets at twelve o' clock.\")"
   ]
  },
  {
   "cell_type": "markdown",
   "metadata": {},
   "source": [
    "<span style=\"color: yellow;\">Ejercicio pasado sin errores en Codewars. He buscado alguna forma de incorporar el alfabeto al código de manera automática, sin tener que incorporar todas las letras del mismo de forma manual. Tras dicha búsqueda, he encontrado la librería string.</span>"
   ]
  },
  {
   "cell_type": "markdown",
   "metadata": {},
   "source": [
    "**6K Persistent Bugger.**\n",
    "\n",
    "Write a function, persistence, that takes in a positive parameter num and returns its multiplicative persistence, which is the number of times you must multiply the digits in num until you reach a single digit.\n",
    "\n",
    "For example (Input --> Output):\n",
    "\n",
    "39 --> 3 (because 3*9 = 27, 2*7 = 14, 1*4 = 4 and 4 has only one digit)\n",
    "\n",
    "999 --> 4 (because 9*9*9 = 729, 7*2*9 = 126, 1*2*6 = 12, and finally 1*2 = 2)\n",
    "\n",
    "4 --> 0 (because 4 is already a one-digit number)"
   ]
  },
  {
   "cell_type": "code",
   "execution_count": 65,
   "metadata": {},
   "outputs": [
    {
     "name": "stdout",
     "output_type": "stream",
     "text": [
      "['4', '5', '6']\n",
      "[4, 5, 6]\n",
      "120\n"
     ]
    }
   ],
   "source": [
    "import numpy as np\n",
    "n = 456\n",
    "n = list(str(n))\n",
    "print(n)\n",
    "n = list(map(int,n))\n",
    "print(n)\n",
    "n = np.prod(n)\n",
    "print(n)\n"
   ]
  },
  {
   "cell_type": "code",
   "execution_count": 63,
   "metadata": {},
   "outputs": [],
   "source": [
    "def persistence(n):\n",
    "    a = 0\n",
    "    if n < 10:\n",
    "        return a\n",
    "    else:\n",
    "        while n > 9:\n",
    "            n = list(str(n))\n",
    "            n = list(map(int,n))\n",
    "            n = np.prod(n)\n",
    "            a += 1\n",
    "        return a"
   ]
  },
  {
   "cell_type": "code",
   "execution_count": 64,
   "metadata": {},
   "outputs": [
    {
     "data": {
      "text/plain": [
       "2"
      ]
     },
     "execution_count": 64,
     "metadata": {},
     "output_type": "execute_result"
    }
   ],
   "source": [
    "persistence(25)"
   ]
  },
  {
   "cell_type": "code",
   "execution_count": 66,
   "metadata": {},
   "outputs": [
    {
     "data": {
      "text/plain": [
       "4"
      ]
     },
     "execution_count": 66,
     "metadata": {},
     "output_type": "execute_result"
    }
   ],
   "source": [
    "persistence(999)"
   ]
  },
  {
   "cell_type": "markdown",
   "metadata": {},
   "source": [
    "<span style=\"color: yellow;\">Ejercicio pasado sin errores en Codewars.</span>"
   ]
  },
  {
   "cell_type": "markdown",
   "metadata": {},
   "source": [
    "**6K Your order, please**\n",
    "\n",
    "Your task is to sort a given string. Each word in the string will contain a single number. This number is the position the word should have in the result.\n",
    "\n",
    "Note: Numbers can be from 1 to 9. So 1 will be the first word (not 0).\n",
    "\n",
    "If the input string is empty, return an empty string. The words in the input String will only contain valid consecutive numbers.\n",
    "\n",
    "Examples\n",
    "\n",
    "\"is2 Thi1s T4est 3a\"  -->  \"Thi1s is2 3a T4est\"\n",
    "\n",
    "\"4of Fo1r pe6ople g3ood th5e the2\"  -->  \"Fo1r the2 g3ood 4of th5e pe6ople\"\n",
    "\n",
    "\"\"  -->  \"\""
   ]
  },
  {
   "cell_type": "code",
   "execution_count": 24,
   "metadata": {},
   "outputs": [],
   "source": [
    "def primera_parte(sentence):\n",
    "    sentence = sentence.split()\n",
    "    numeros = []\n",
    "    lista = []\n",
    "    for i in sentence:\n",
    "        for j in i:\n",
    "            if j.isdigit():\n",
    "                numeros.append(j)\n",
    "        lista.append(i)\n",
    "    diccionario = dict(zip(numeros,lista))\n",
    "    return diccionario"
   ]
  },
  {
   "cell_type": "code",
   "execution_count": 27,
   "metadata": {},
   "outputs": [
    {
     "data": {
      "text/plain": [
       "{'2': 'is2', '1': 'Thi1s', '4': 'T4est', '3': '3a'}"
      ]
     },
     "execution_count": 27,
     "metadata": {},
     "output_type": "execute_result"
    }
   ],
   "source": [
    "primera_parte(\"is2 Thi1s T4est 3a\")"
   ]
  },
  {
   "cell_type": "code",
   "execution_count": 22,
   "metadata": {},
   "outputs": [],
   "source": [
    "def order(sentence):\n",
    "    sentence = sentence.split()\n",
    "    numeros = []\n",
    "    lista = []\n",
    "    for i in sentence:\n",
    "        for j in i:\n",
    "            if j.isdigit():\n",
    "                numeros.append(j)\n",
    "        lista.append(i)\n",
    "    diccionario = dict(zip(numeros,lista))\n",
    "    resultado = []\n",
    "    for i,j in enumerate(diccionario,start=1):\n",
    "        resultado.append(diccionario.get(str(i)))\n",
    "    return \" \".join(resultado)"
   ]
  },
  {
   "cell_type": "code",
   "execution_count": 23,
   "metadata": {},
   "outputs": [
    {
     "data": {
      "text/plain": [
       "'Thi1s is2 3a T4est'"
      ]
     },
     "execution_count": 23,
     "metadata": {},
     "output_type": "execute_result"
    }
   ],
   "source": [
    "order(\"is2 Thi1s T4est 3a\")"
   ]
  },
  {
   "cell_type": "markdown",
   "metadata": {},
   "source": [
    "<span style=\"color: yellow;\">Ejercicio pasado sin errores en Codewars. (Había soluciones más fáciles). Ejemplo abajo</span>"
   ]
  },
  {
   "cell_type": "code",
   "execution_count": null,
   "metadata": {},
   "outputs": [],
   "source": [
    "def order(sentence):\n",
    "    if not sentence:\n",
    "        return \"\"\n",
    "    result = []\n",
    "    split_up = sentence.split()\n",
    "    for i in range(1,10):\n",
    "        for item in split_up:\n",
    "            if str(i) in item:\n",
    "                 result.append(item)\n",
    "    return \" \".join(result)\n",
    "\n",
    "# El bucle exterior for i in range(1, 10): itera sobre los dígitos del 1 al 9.\n",
    "\n",
    "# El bucle interior for item in split_up: itera sobre cada palabra en la lista split_up.\n",
    "\n",
    "# if str(i) in item:: Comprueba si el dígito convertido a cadena (str(i)) está presente en la palabra actual (item).\n",
    "\n",
    "# Si el dígito está presente, result.append(item): Agrega la palabra actual a la lista result.\n",
    "\n",
    "# El bucle exterior for asegura que las palabras se agreguen en orden numérico, ya que itera a través de los dígitos del 1 al 9."
   ]
  },
  {
   "cell_type": "markdown",
   "metadata": {},
   "source": [
    "**6K Does my number look big in this?**\n",
    "\n",
    "A Narcissistic Number (or Armstrong Number) is a positive number which is the sum of its own digits, each raised to the power of the number of digits in a given base. In this Kata, we will restrict ourselves to decimal (base 10).\n",
    "\n",
    "For example, take 153 (3 digits), which is narcissistic:\n",
    "\n",
    "    1^3 + 5^3 + 3^3 = 1 + 125 + 27 = 153\n",
    "\n",
    "and 1652 (4 digits), which isn't:\n",
    "\n",
    "    1^4 + 6^4 + 5^4 + 2^4 = 1 + 1296 + 625 + 16 = 1938\n",
    "    \n",
    "The Challenge:\n",
    "\n",
    "    Your code must return true or false (not 'true' and 'false') depending upon whether the given number is a Narcissistic number in base 10.\n",
    "\n",
    "    This may be True and False in your language, e.g. PHP.\n",
    "\n",
    "    Error checking for text strings or other invalid inputs is not required, only valid positive non-zero integers will be passed into the function."
   ]
  },
  {
   "cell_type": "code",
   "execution_count": 38,
   "metadata": {},
   "outputs": [],
   "source": [
    "def narcissistic(value):\n",
    "    str_value = str(value)\n",
    "    potencia = len(str_value)\n",
    "    lista_valores = []\n",
    "    for i in str_value:\n",
    "        lista_valores.append(i)\n",
    "    lista_valores_elevado_n = []\n",
    "    lista = list(map(int,lista_valores))\n",
    "    for i in lista:\n",
    "        lista_valores_elevado_n.append(i**potencia)\n",
    "    # print(lista_valores_elevado_n)\n",
    "    # print(sum(lista_valores_elevado_n))\n",
    "    if sum(lista_valores_elevado_n) == value:\n",
    "        return True\n",
    "    else:\n",
    "        return False"
   ]
  },
  {
   "cell_type": "code",
   "execution_count": 39,
   "metadata": {},
   "outputs": [
    {
     "name": "stdout",
     "output_type": "stream",
     "text": [
      "[1, 125, 27]\n",
      "153\n"
     ]
    },
    {
     "data": {
      "text/plain": [
       "True"
      ]
     },
     "execution_count": 39,
     "metadata": {},
     "output_type": "execute_result"
    }
   ],
   "source": [
    "narcissistic(153)"
   ]
  },
  {
   "cell_type": "code",
   "execution_count": 37,
   "metadata": {},
   "outputs": [
    {
     "data": {
      "text/plain": [
       "True"
      ]
     },
     "execution_count": 37,
     "metadata": {},
     "output_type": "execute_result"
    }
   ],
   "source": [
    "narcissistic(371)"
   ]
  },
  {
   "cell_type": "code",
   "execution_count": 40,
   "metadata": {},
   "outputs": [
    {
     "name": "stdout",
     "output_type": "stream",
     "text": [
      "[256, 4096, 4096, 2401]\n",
      "10849\n"
     ]
    },
    {
     "data": {
      "text/plain": [
       "False"
      ]
     },
     "execution_count": 40,
     "metadata": {},
     "output_type": "execute_result"
    }
   ],
   "source": [
    "narcissistic(4887)"
   ]
  },
  {
   "cell_type": "markdown",
   "metadata": {},
   "source": [
    "<span style=\"color: yellow;\">Ejercicio pasado sin errores en Codewars. (Había soluciones más fáciles y/o con menos código). Ejemplo abajo</span>"
   ]
  },
  {
   "cell_type": "code",
   "execution_count": 41,
   "metadata": {},
   "outputs": [],
   "source": [
    "def narcissistic( value ):\n",
    "    value = str(value)\n",
    "    size = len(value)\n",
    "    sum = 0\n",
    "    for i in value:\n",
    "        sum += int(i) ** size\n",
    "    return sum == int(value)"
   ]
  },
  {
   "cell_type": "code",
   "execution_count": 42,
   "metadata": {},
   "outputs": [],
   "source": [
    "def narcissistic(value):\n",
    "    return value == sum(int(x) ** len(str(value)) for x in str(value))"
   ]
  },
  {
   "cell_type": "markdown",
   "metadata": {},
   "source": [
    "**6K Unique In Order**\n",
    "\n",
    "Implement the function unique_in_order which takes as argument a sequence and returns a list of items without any elements with the same value next to each other and preserving the original order of elements.\n",
    "\n",
    "For example:\n",
    "\n",
    "    unique_in_order('AAAABBBCCDAABBB') == ['A', 'B', 'C', 'D', 'A', 'B']\n",
    "\n",
    "    unique_in_order('ABBCcAD')         == ['A', 'B', 'C', 'c', 'A', 'D']\n",
    "\n",
    "    unique_in_order([1, 2, 2, 3, 3])   == [1, 2, 3]\n",
    "\n",
    "    unique_in_order((1, 2, 2, 3, 3))   == [1, 2, 3]"
   ]
  },
  {
   "cell_type": "code",
   "execution_count": null,
   "metadata": {},
   "outputs": [],
   "source": [
    "def unique_in_order(sequence):\n",
    "    if isinstance(sequence,str):\n",
    "        if len(sequence) == 1:\n",
    "            return list(sequence)\n",
    "        else:\n",
    "            resultado = []\n",
    "            lista = []\n",
    "            for i in sequence:\n",
    "                lista.append(i)\n",
    "            for i,j in enumerate(lista):\n",
    "                if i == 0:\n",
    "                    lista.append(j)\n",
    "                if i > 0 and j != sequence[i-1]:\n",
    "                    resultado.append(j)\n",
    "            return resultado\n",
    "    elif isinstance(sequence,(list,tuple)):\n",
    "        if len(sequence) == 1:\n",
    "            return sequence\n",
    "        else:\n",
    "            resultado = []\n",
    "            for i,j in enumerate(sequence):\n",
    "                if i == 0:\n",
    "                    resultado.append(j)\n",
    "                if i > 0 and j != sequence[i-1]:\n",
    "                    resultado.append(j)\n",
    "        return resultado"
   ]
  },
  {
   "cell_type": "markdown",
   "metadata": {},
   "source": [
    "<span style=\"color: yellow;\">Ejercicio no superado en Codewars (He superado 181 test y he fallado 30). No se ha subido solución correcta a Codewars. Abajo se muestra corrección aportada por ChatGPT. También se muestran soluciones de otros usuarios de Codewars que sí han superado la Kata</span>"
   ]
  },
  {
   "cell_type": "code",
   "execution_count": 44,
   "metadata": {},
   "outputs": [],
   "source": [
    "# Solución de ChatGPT en base a mi código (Ha superado los test de prueba. El resto de test no es posible saberlo ya que no he subido la solución,\n",
    "# ya que entonces me contaría los puntos y yo no he conseguido sacar el ejercicio por mi propia cuenta)\n",
    "def unique_in_order(sequence):\n",
    "    if isinstance(sequence, str):\n",
    "        if len(sequence) <= 1:\n",
    "            return list(sequence)\n",
    "        else:\n",
    "            resultado = [sequence[0]]\n",
    "            for i, j in enumerate(sequence[1:]):\n",
    "                if j != sequence[i]:\n",
    "                    resultado.append(j)\n",
    "            return resultado\n",
    "    elif isinstance(sequence, (list, tuple)):\n",
    "        if len(sequence) <= 1:\n",
    "            return list(sequence)\n",
    "        else:\n",
    "            resultado = [sequence[0]]\n",
    "            for i, j in enumerate(sequence[1:]):\n",
    "                if j != sequence[i]:\n",
    "                    resultado.append(j)\n",
    "            return resultado\n"
   ]
  },
  {
   "cell_type": "code",
   "execution_count": 45,
   "metadata": {},
   "outputs": [],
   "source": [
    "# Solución de otro usuario en Codewars\n",
    "def unique_in_order(iterable):\n",
    "    res = []\n",
    "    for item in iterable:\n",
    "        if len(res) == 0 or item != res[-1]:\n",
    "            res.append(item)\n",
    "    return res"
   ]
  },
  {
   "cell_type": "code",
   "execution_count": 46,
   "metadata": {},
   "outputs": [],
   "source": [
    "def unique_in_order(iterable):\n",
    "    k = []\n",
    "    for i in iterable:\n",
    "        if k == []:\n",
    "            k.append(i)\n",
    "        elif k[-1] != i:\n",
    "            k.append(i)\n",
    "    return k\n",
    "\n",
    "# Se utiliza un bucle for para recorrer cada elemento i en la secuencia iterable.\n",
    "# En la primera iteración, si la lista k está vacía, se agrega el primer elemento i a la lista k.\n",
    "# En las iteraciones subsiguientes, se verifica si el último elemento de la lista k (accesible mediante k[-1]) es diferente de i. Si son \n",
    "# diferentes, se agrega i a la lista k, ya que significa que i es un elemento único."
   ]
  },
  {
   "cell_type": "markdown",
   "metadata": {},
   "source": [
    "**6K Find the unique number**\n",
    "\n",
    "There is an array with some numbers. All numbers are equal except for one. Try to find it!\n",
    "\n",
    "    find_uniq([ 1, 1, 1, 2, 1, 1 ]) == 2\n",
    "    find_uniq([ 0, 0, 0.55, 0, 0 ]) == 0.55\n",
    "\n",
    "It’s guaranteed that array contains at least 3 numbers.\n",
    "\n",
    "The tests contain some very huge arrays, so think about performance.\n",
    "\n",
    "This is the first kata in series:\n",
    "\n",
    "Find the unique number (this kata)\n",
    "\n",
    "Find the unique string\n",
    "\n",
    "Find The Unique"
   ]
  },
  {
   "cell_type": "code",
   "execution_count": 44,
   "metadata": {},
   "outputs": [],
   "source": [
    "def find_uniq(arr):\n",
    "    arr = list(map(str,arr))\n",
    "    diccionario = {}\n",
    "    for i in arr:\n",
    "        diccionario[arr.count(i)] = i\n",
    "    resultado = diccionario.get(1)\n",
    "    if \".\" in resultado:\n",
    "        return float(resultado)\n",
    "    else:\n",
    "        return int(resultado)"
   ]
  },
  {
   "cell_type": "code",
   "execution_count": 45,
   "metadata": {},
   "outputs": [
    {
     "data": {
      "text/plain": [
       "2.0"
      ]
     },
     "execution_count": 45,
     "metadata": {},
     "output_type": "execute_result"
    }
   ],
   "source": [
    "find_uniq([ 1, 1, 1, 2.0, 1, 1 ])"
   ]
  },
  {
   "cell_type": "code",
   "execution_count": 52,
   "metadata": {},
   "outputs": [],
   "source": [
    "def find_uniq(arr):\n",
    "    arr = list(map(str,arr))\n",
    "    for i in arr:\n",
    "        if arr.count(i) == 1:\n",
    "            try:\n",
    "                return int(i)\n",
    "            except ValueError:\n",
    "                return float(i)\n"
   ]
  },
  {
   "cell_type": "code",
   "execution_count": 55,
   "metadata": {},
   "outputs": [
    {
     "data": {
      "text/plain": [
       "2.0"
      ]
     },
     "execution_count": 55,
     "metadata": {},
     "output_type": "execute_result"
    }
   ],
   "source": [
    "find_uniq([ 1, 1, 1, 2.0, 1, 1 ])"
   ]
  },
  {
   "cell_type": "code",
   "execution_count": 50,
   "metadata": {},
   "outputs": [],
   "source": [
    "def find_uniq(arr):\n",
    "    diccionario = {}\n",
    "    for i in arr:\n",
    "        diccionario[i] = diccionario.get(i, 0) + 1\n",
    "        print(diccionario)\n",
    "    for i in arr:\n",
    "        if diccionario[i] == 1:\n",
    "            return i"
   ]
  },
  {
   "cell_type": "code",
   "execution_count": 51,
   "metadata": {},
   "outputs": [
    {
     "name": "stdout",
     "output_type": "stream",
     "text": [
      "{1: 1}\n",
      "{1: 2}\n",
      "{1: 3}\n",
      "{1: 3, 2.0: 1}\n",
      "{1: 4, 2.0: 1}\n",
      "{1: 5, 2.0: 1}\n"
     ]
    },
    {
     "data": {
      "text/plain": [
       "2.0"
      ]
     },
     "execution_count": 51,
     "metadata": {},
     "output_type": "execute_result"
    }
   ],
   "source": [
    "find_uniq([ 1, 1, 1, 2.0, 1, 1 ])"
   ]
  },
  {
   "cell_type": "markdown",
   "metadata": {},
   "source": [
    "<span style=\"color: yellow;\">Ejercicio pasado sin errores en Codewars. He tenido problemas con los dos primeros códigos porque Codewars no los consideraba del todo eficientes en cuanto a velocidad, por lo que he tenido que buscar cómo podía optimizarlo. Se muestran abajo otros códigos de otros usuarios de Codewars.</span>"
   ]
  },
  {
   "cell_type": "code",
   "execution_count": null,
   "metadata": {},
   "outputs": [],
   "source": [
    "def find_uniq(arr):\n",
    "    a, b = set(arr)\n",
    "    return a if arr.count(a) == 1 else b"
   ]
  },
  {
   "cell_type": "code",
   "execution_count": null,
   "metadata": {},
   "outputs": [],
   "source": [
    "def find_uniq(arr):\n",
    "    s = set(arr)\n",
    "    for e in s:\n",
    "        if arr.count(e) == 1:\n",
    "            return e"
   ]
  },
  {
   "cell_type": "markdown",
   "metadata": {},
   "source": [
    "**6K Detect Pangram**\n",
    "\n",
    "A pangram is a sentence that contains every single letter of the alphabet at least once. For example, the sentence \"The quick brown fox jumps over the lazy dog\" is a pangram, because it uses the letters A-Z at least once (case is irrelevant).\n",
    "\n",
    "Given a string, detect whether or not it is a pangram. Return True if it is, False if not. Ignore numbers and punctuation."
   ]
  },
  {
   "cell_type": "code",
   "execution_count": 11,
   "metadata": {},
   "outputs": [],
   "source": [
    "import string\n",
    "def is_pangram(s):\n",
    "    s = s.lower()\n",
    "    set_1 = set()\n",
    "    abecedario = list(string.ascii_lowercase)\n",
    "    for i in string.ascii_lowercase:\n",
    "        if i in s:\n",
    "            set_1.add(i)\n",
    "    set_1 = list(set_1)\n",
    "    return abecedario == sorted(set_1)"
   ]
  },
  {
   "cell_type": "code",
   "execution_count": 12,
   "metadata": {},
   "outputs": [
    {
     "data": {
      "text/plain": [
       "True"
      ]
     },
     "execution_count": 12,
     "metadata": {},
     "output_type": "execute_result"
    }
   ],
   "source": [
    "is_pangram(\"The quick, brown fox jumps over the lazy dog!\")"
   ]
  },
  {
   "cell_type": "code",
   "execution_count": 13,
   "metadata": {},
   "outputs": [
    {
     "data": {
      "text/plain": [
       "False"
      ]
     },
     "execution_count": 13,
     "metadata": {},
     "output_type": "execute_result"
    }
   ],
   "source": [
    "is_pangram(\"1bcdefghijklmnopqrstuvwxyz\")"
   ]
  },
  {
   "cell_type": "markdown",
   "metadata": {},
   "source": [
    "<span style=\"color: yellow;\">Ejercicio pasado sin errores en Codewars. (Había soluciones más fáciles y/o con menos código). Ejemplo abajo</span>"
   ]
  },
  {
   "cell_type": "code",
   "execution_count": 14,
   "metadata": {},
   "outputs": [],
   "source": [
    "import string\n",
    "def is_pangram(s):\n",
    "    return set(string.ascii_lowercase).issubset(s.lower())\n",
    "\n",
    "# .issubset(s.lower()): La función issubset verifica si el conjunto creado en el paso anterior es un subconjunto de otro conjunto. \n",
    "# En este caso, el otro conjunto es creado a partir de la cadena s.lower(). Aquí, s.lower() convierte todas las letras de la cadena s a minúsculas. \n",
    "# El método issubset() en Python se utiliza para comprobar si un conjunto es un subconjunto de otro conjunto. La sintaxis básica es la siguiente:\n",
    "\n",
    "\n",
    "# set1.issubset(set2)\n",
    "# Aquí, set1 y set2 son conjuntos. El método issubset() devuelve True si todos los elementos de set1 están presentes en set2. En otras palabras, \n",
    "# verifica si set1 es un subconjunto de set2.\n",
    "\n",
    "# Ejemplo:\n",
    "\n",
    "# A = {1, 2, 3}\n",
    "# B = {1, 2, 3, 4, 5}\n",
    "\n",
    "# result = A.issubset(B)\n",
    "\n",
    "# print(result)\n",
    "# En este caso, A es un subconjunto de B, ya que todos los elementos de A (1, 2, y 3) están presentes en B. Por lo tanto, el resultado será True."
   ]
  },
  {
   "cell_type": "markdown",
   "metadata": {},
   "source": [
    "**6K Split Strings**\n",
    "\n",
    "Complete the solution so that it splits the string into pairs of two characters. If the string contains an odd number of characters then it should replace the missing second character of the final pair with an underscore ('_').\n",
    "\n",
    "Examples:\n",
    "\n",
    "    * 'abc' =>  ['ab', 'c_']\n",
    "    * 'abcdef' => ['ab', 'cd', 'ef']"
   ]
  },
  {
   "cell_type": "code",
   "execution_count": 21,
   "metadata": {},
   "outputs": [],
   "source": [
    "def solution(s):\n",
    "    lista = list(s)\n",
    "    if len(s) % 2 == 0:\n",
    "        resultado = s.split(maxsplit = int(len(s) / 2))\n",
    "    else:\n",
    "        resultado = s.split(maxsplit = (len(s) // 2) + 1)\n",
    "    return resultado"
   ]
  },
  {
   "cell_type": "code",
   "execution_count": 55,
   "metadata": {},
   "outputs": [],
   "source": [
    "def solution(s):\n",
    "    resultado = []\n",
    "    for i, j in enumerate(list(s)):\n",
    "        # print(i,j)\n",
    "        if i % 2 == 1:\n",
    "            resultado.append(s[i-1] + j)\n",
    "    if len(s) % 2 ==1:\n",
    "        resultado.append(s[-1] + \"_\")\n",
    "    return resultado"
   ]
  },
  {
   "cell_type": "code",
   "execution_count": 56,
   "metadata": {},
   "outputs": [
    {
     "name": "stdout",
     "output_type": "stream",
     "text": [
      "0 a\n",
      "1 s\n",
      "2 d\n",
      "3 f\n",
      "4 a\n",
      "5 d\n",
      "6 s\n",
      "7 f\n"
     ]
    },
    {
     "data": {
      "text/plain": [
       "['as', 'df', 'ad', 'sf']"
      ]
     },
     "execution_count": 56,
     "metadata": {},
     "output_type": "execute_result"
    }
   ],
   "source": [
    "solution(\"asdfadsf\")"
   ]
  },
  {
   "cell_type": "code",
   "execution_count": 57,
   "metadata": {},
   "outputs": [
    {
     "name": "stdout",
     "output_type": "stream",
     "text": [
      "0 a\n",
      "1 s\n",
      "2 d\n",
      "3 f\n",
      "4 a\n",
      "5 d\n",
      "6 s\n",
      "7 f\n",
      "8 f\n"
     ]
    },
    {
     "data": {
      "text/plain": [
       "['as', 'df', 'ad', 'sf', 'f_']"
      ]
     },
     "execution_count": 57,
     "metadata": {},
     "output_type": "execute_result"
    }
   ],
   "source": [
    "solution(\"asdfadsff\")"
   ]
  },
  {
   "cell_type": "markdown",
   "metadata": {},
   "source": [
    "<span style=\"color: yellow;\">Ejercicio pasado sin errores en Codewars. Otra solución de un usuario en Codewars abajo</span>"
   ]
  },
  {
   "cell_type": "code",
   "execution_count": 58,
   "metadata": {},
   "outputs": [],
   "source": [
    "def solution(s):\n",
    "    result = []\n",
    "    if len(s) % 2:\n",
    "        s += '_'\n",
    "    for i in range(0, len(s), 2):\n",
    "        result.append(s[i:i+2])\n",
    "    return result"
   ]
  },
  {
   "cell_type": "markdown",
   "metadata": {},
   "source": [
    "**8K Century From Year**\n",
    "\n",
    "Introduction\n",
    "The first century spans from the year 1 up to and including the year 100, the second century - from the year 101 up to and including the year 200, etc.\n",
    "\n",
    "Task\n",
    "Given a year, return the century it is in.\n",
    "\n",
    "Examples\n",
    "\n",
    "    1705 --> 18\n",
    "\n",
    "    1900 --> 19\n",
    "\n",
    "    1601 --> 17\n",
    "\n",
    "    2000 --> 20\n",
    "\n",
    "    2742 --> 28"
   ]
  },
  {
   "cell_type": "code",
   "execution_count": 16,
   "metadata": {},
   "outputs": [],
   "source": [
    "def century(year):\n",
    "    anio = str(year)\n",
    "    conteo = len(anio)\n",
    "    \n",
    "    if year <= 100:\n",
    "        siglo = 1\n",
    "    \n",
    "    elif year > 100:\n",
    "        siglo = anio[:(conteo - 2)]\n",
    "        \n",
    "        if anio.endswith(\"00\"):\n",
    "            siglo = int(siglo)\n",
    "        else:\n",
    "            siglo = int(siglo)\n",
    "            siglo = siglo + 1\n",
    "    return siglo"
   ]
  },
  {
   "cell_type": "code",
   "execution_count": 17,
   "metadata": {},
   "outputs": [
    {
     "data": {
      "text/plain": [
       "21"
      ]
     },
     "execution_count": 17,
     "metadata": {},
     "output_type": "execute_result"
    }
   ],
   "source": [
    "century(2001)"
   ]
  },
  {
   "cell_type": "markdown",
   "metadata": {},
   "source": [
    "<span style=\"color: yellow;\">Ejercicio pasado sin errores en Codewars. Otra solución de un usuario en Codewars abajo</span>"
   ]
  },
  {
   "cell_type": "code",
   "execution_count": 19,
   "metadata": {},
   "outputs": [],
   "source": [
    "def century(year):\n",
    "    if year%100==0:\n",
    "        return year//100\n",
    "    else:\n",
    "        return year//100+1"
   ]
  },
  {
   "cell_type": "markdown",
   "metadata": {},
   "source": [
    "**8K Beginner - Lost Without a Map**\n",
    "\n",
    "Given an array of integers, return a new array with each value doubled.\n",
    "\n",
    "For example:\n",
    "\n",
    "[1, 2, 3] --> [2, 4, 6]"
   ]
  },
  {
   "cell_type": "code",
   "execution_count": 22,
   "metadata": {},
   "outputs": [],
   "source": [
    "def maps(a):\n",
    "    doble = []\n",
    "    for i in a:\n",
    "        doble.append(i*2)\n",
    "    return doble"
   ]
  },
  {
   "cell_type": "code",
   "execution_count": 27,
   "metadata": {},
   "outputs": [
    {
     "data": {
      "text/plain": [
       "[2, 4, 6]"
      ]
     },
     "execution_count": 27,
     "metadata": {},
     "output_type": "execute_result"
    }
   ],
   "source": [
    "maps([1, 2, 3])"
   ]
  },
  {
   "cell_type": "markdown",
   "metadata": {},
   "source": [
    "<span style=\"color: yellow;\">Ejercicio pasado sin errores en Codewars. Otra solución de un usuario en Codewars abajo</span>"
   ]
  },
  {
   "cell_type": "code",
   "execution_count": null,
   "metadata": {},
   "outputs": [],
   "source": [
    "def maps(a):\n",
    "    return [2 * i for i in a]"
   ]
  },
  {
   "cell_type": "markdown",
   "metadata": {},
   "source": [
    "**8K Beginner Series #1 School Paperwork**\n",
    "\n",
    "DESCRIPTION:\n",
    "\n",
    "Your classmates asked you to copy some paperwork for them. You know that there are 'n' classmates and the paperwork has 'm' pages.\n",
    "\n",
    "Your task is to calculate how many blank pages do you need. If n < 0 or m < 0 return 0.\n",
    "\n",
    "Example:\n",
    "\n",
    "n= 5, m=5: 25\n",
    "\n",
    "n=-5, m=5:  0\n",
    "\n",
    "Waiting for translations and Feedback! Thanks!"
   ]
  },
  {
   "cell_type": "code",
   "execution_count": 28,
   "metadata": {},
   "outputs": [],
   "source": [
    "def paperwork(n, m):\n",
    "    if (n > 0) & (m > 0):\n",
    "        return n * m\n",
    "    else:\n",
    "        return 0"
   ]
  },
  {
   "cell_type": "code",
   "execution_count": 29,
   "metadata": {},
   "outputs": [
    {
     "data": {
      "text/plain": [
       "8"
      ]
     },
     "execution_count": 29,
     "metadata": {},
     "output_type": "execute_result"
    }
   ],
   "source": [
    "paperwork(4,2)"
   ]
  },
  {
   "cell_type": "code",
   "execution_count": 30,
   "metadata": {},
   "outputs": [
    {
     "data": {
      "text/plain": [
       "0"
      ]
     },
     "execution_count": 30,
     "metadata": {},
     "output_type": "execute_result"
    }
   ],
   "source": [
    "paperwork(-1,5)"
   ]
  },
  {
   "cell_type": "markdown",
   "metadata": {},
   "source": [
    "<span style=\"color: yellow;\">Ejercicio pasado sin errores en Codewars.</span>"
   ]
  },
  {
   "cell_type": "markdown",
   "metadata": {},
   "source": [
    "**8K Are You Playing Banjo?**\n",
    "\n",
    "DESCRIPTION:\n",
    "Create a function which answers the question \"Are you playing banjo?\".\n",
    "\n",
    "If your name starts with the letter \"R\" or lower case \"r\", you are playing banjo!\n",
    "\n",
    "The function takes a name as its only argument, and returns one of the following strings:\n",
    "\n",
    "name + \" plays banjo\" \n",
    "\n",
    "name + \" does not play banjo\"\n",
    "\n",
    "Names given are always valid strings."
   ]
  },
  {
   "cell_type": "code",
   "execution_count": 41,
   "metadata": {},
   "outputs": [],
   "source": [
    "def are_you_playing_banjo(name):\n",
    "    if name.lower().startswith(\"r\"):\n",
    "        return f\"{name} plays banjo\"\n",
    "    else:\n",
    "        return f\"{name} does not play banjo\""
   ]
  },
  {
   "cell_type": "code",
   "execution_count": 42,
   "metadata": {},
   "outputs": [
    {
     "data": {
      "text/plain": [
       "'Ramón plays banjo'"
      ]
     },
     "execution_count": 42,
     "metadata": {},
     "output_type": "execute_result"
    }
   ],
   "source": [
    "are_you_playing_banjo(\"Ramón\")"
   ]
  },
  {
   "cell_type": "code",
   "execution_count": 43,
   "metadata": {},
   "outputs": [
    {
     "data": {
      "text/plain": [
       "'Juan does not play banjo'"
      ]
     },
     "execution_count": 43,
     "metadata": {},
     "output_type": "execute_result"
    }
   ],
   "source": [
    "are_you_playing_banjo(\"Juan\")"
   ]
  },
  {
   "cell_type": "markdown",
   "metadata": {},
   "source": [
    "<span style=\"color: yellow;\">Ejercicio pasado sin errores en Codewars.</span>"
   ]
  },
  {
   "cell_type": "markdown",
   "metadata": {},
   "source": [
    "**8K Beginner Series #2 Clock**\n",
    "\n",
    "DESCRIPTION:\n",
    "\n",
    "Clock shows h hours, m minutes and s seconds after midnight.\n",
    "\n",
    "Your task is to write a function which returns the time since midnight in milliseconds.\n",
    "\n",
    "Example:\n",
    "\n",
    "h = 0\n",
    "m = 1\n",
    "s = 1\n",
    "\n",
    "result = 61000\n",
    "\n",
    "Input constraints:\n",
    "\n",
    "0 <= h <= 23\n",
    "\n",
    "0 <= m <= 59\n",
    "\n",
    "0 <= s <= 59"
   ]
  },
  {
   "cell_type": "code",
   "execution_count": 61,
   "metadata": {},
   "outputs": [],
   "source": [
    "def past(h, m, s):\n",
    "    if  (0 <= h <= 23) & (0 <= m <= 59) & (0 <= s <= 59):\n",
    "        h = h * 60 * 60 * 1000\n",
    "        m = m * 60 * 1000\n",
    "        s = s * 1000\n",
    "        return h+m+s\n",
    "    else:\n",
    "        return \"La horas, minutos y/o segundos no se han introducido en formato correcto y/o válido\"\n",
    "    "
   ]
  },
  {
   "cell_type": "code",
   "execution_count": 63,
   "metadata": {},
   "outputs": [
    {
     "data": {
      "text/plain": [
       "7261000"
      ]
     },
     "execution_count": 63,
     "metadata": {},
     "output_type": "execute_result"
    }
   ],
   "source": [
    "past(2,1,1)"
   ]
  },
  {
   "cell_type": "markdown",
   "metadata": {},
   "source": [
    "<span style=\"color: yellow;\">Ejercicio pasado sin errores en Codewars. Otra solución de un usuario en Codewars abajo</span>"
   ]
  },
  {
   "cell_type": "code",
   "execution_count": 47,
   "metadata": {},
   "outputs": [],
   "source": [
    "def past(h, m, s):\n",
    "    return (3600*h + 60*m + s) * 1000"
   ]
  },
  {
   "cell_type": "markdown",
   "metadata": {},
   "source": [
    "**8K How good are you really?**\n",
    "\n",
    "DESCRIPTION:\n",
    "\n",
    "There was a test in your class and you passed it. Congratulations!\n",
    "\n",
    "But you're an ambitious person. You want to know if you're better than the average student in your class.\n",
    "\n",
    "You receive an array with your peers' test scores. Now calculate the average and compare your score!\n",
    "\n",
    "Return True if you're better, else False!\n",
    "\n",
    "Note:\n",
    "\n",
    "Your points are not included in the array of your class's points. For calculating the average point you may add your point to the given array!"
   ]
  },
  {
   "cell_type": "code",
   "execution_count": 64,
   "metadata": {},
   "outputs": [],
   "source": [
    "import numpy as np\n",
    "def better_than_average(class_points, your_points):\n",
    "    media_clase = np.mean(class_points)\n",
    "    if your_points > media_clase:\n",
    "        return True\n",
    "    else:\n",
    "        return False"
   ]
  },
  {
   "cell_type": "code",
   "execution_count": 65,
   "metadata": {},
   "outputs": [
    {
     "data": {
      "text/plain": [
       "True"
      ]
     },
     "execution_count": 65,
     "metadata": {},
     "output_type": "execute_result"
    }
   ],
   "source": [
    "better_than_average([50,100,90],86)"
   ]
  },
  {
   "cell_type": "markdown",
   "metadata": {},
   "source": [
    "<span style=\"color: yellow;\">Ejercicio pasado sin errores en Codewars.</span>"
   ]
  },
  {
   "cell_type": "markdown",
   "metadata": {},
   "source": [
    "**8K Simple multiplication**\n",
    "\n",
    "This kata is about multiplying a given number by eight if it is an even number and by nine otherwise."
   ]
  },
  {
   "cell_type": "code",
   "execution_count": 67,
   "metadata": {},
   "outputs": [],
   "source": [
    "def simple_multiplication(number):\n",
    "    if number % 2 == 0:\n",
    "        return number * 8\n",
    "    else:\n",
    "        return number * 9"
   ]
  },
  {
   "cell_type": "code",
   "execution_count": 68,
   "metadata": {},
   "outputs": [
    {
     "data": {
      "text/plain": [
       "16"
      ]
     },
     "execution_count": 68,
     "metadata": {},
     "output_type": "execute_result"
    }
   ],
   "source": [
    "simple_multiplication(2)"
   ]
  },
  {
   "cell_type": "code",
   "execution_count": 69,
   "metadata": {},
   "outputs": [
    {
     "data": {
      "text/plain": [
       "9"
      ]
     },
     "execution_count": 69,
     "metadata": {},
     "output_type": "execute_result"
    }
   ],
   "source": [
    "simple_multiplication(1)"
   ]
  },
  {
   "cell_type": "markdown",
   "metadata": {},
   "source": [
    "**8K Count of positives / sum of negatives**\n",
    "\n",
    "DESCRIPTION:\n",
    "\n",
    "Given an array of integers.\n",
    "\n",
    "Return an array, where the first element is the count of positives numbers and the second element is sum of negative numbers. 0 is neither positive nor negative.\n",
    "\n",
    "If the input is an empty array or is null, return an empty array.\n",
    "\n",
    "Example\n",
    "\n",
    "For input [1, 2, 3, 4, 5, 6, 7, 8, 9, 10, -11, -12, -13, -14, -15], you should return [10, -65]."
   ]
  },
  {
   "cell_type": "code",
   "execution_count": 71,
   "metadata": {},
   "outputs": [],
   "source": [
    "def count_positives_sum_negatives(arr):\n",
    "    if len(arr) == 0:\n",
    "        return []\n",
    "    else:\n",
    "        return [len([x for x in arr if x > 0]) ,sum([x for x in arr if x < 0])]"
   ]
  },
  {
   "cell_type": "markdown",
   "metadata": {},
   "source": [
    "<span style=\"color: yellow;\">Ejercicio pasado sin errores en Codewars.</span>"
   ]
  }
 ],
 "metadata": {
  "kernelspec": {
   "display_name": "Python 3",
   "language": "python",
   "name": "python3"
  },
  "language_info": {
   "codemirror_mode": {
    "name": "ipython",
    "version": 3
   },
   "file_extension": ".py",
   "mimetype": "text/x-python",
   "name": "python",
   "nbconvert_exporter": "python",
   "pygments_lexer": "ipython3",
   "version": "3.10.11"
  }
 },
 "nbformat": 4,
 "nbformat_minor": 2
}
